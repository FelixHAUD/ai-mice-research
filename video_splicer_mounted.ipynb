{
  "cells": [
    {
      "cell_type": "markdown",
      "metadata": {
        "id": "view-in-github",
        "colab_type": "text"
      },
      "source": [
        "<a href=\"https://colab.research.google.com/github/FelixHAUD/ai-mice-research/blob/main/video_splicer_mounted.ipynb\" target=\"_parent\"><img src=\"https://colab.research.google.com/assets/colab-badge.svg\" alt=\"Open In Colab\"/></a>"
      ]
    },
    {
      "cell_type": "code",
      "execution_count": 1,
      "metadata": {
        "colab": {
          "base_uri": "https://localhost:8080/"
        },
        "id": "uNVCYtRNwubu",
        "outputId": "e4c0bab4-6a9a-4e99-f646-912a81f2e134"
      },
      "outputs": [
        {
          "output_type": "stream",
          "name": "stdout",
          "text": [
            "Mounted at /content/drive\n"
          ]
        }
      ],
      "source": [
        "from google.colab import drive\n",
        "drive.mount('/content/drive', force_remount=True)\n",
        "\n",
        "# !ls \"/content/drive/MyDrive/Rat_AI_Analysis/Coding/top\""
      ]
    },
    {
      "cell_type": "code",
      "execution_count": null,
      "metadata": {
        "colab": {
          "base_uri": "https://localhost:8080/"
        },
        "id": "4CLaEXEvus_j",
        "outputId": "58448278-5778-4412-bd2d-86d3ea44a6db"
      },
      "outputs": [
        {
          "output_type": "stream",
          "name": "stdout",
          "text": [
            "Project root auto-detected as: /content/drive/MyDrive/Rat_AI_Analysis/Coding\n",
            "Will read from: /content/drive/MyDrive/Rat_AI_Analysis/Coding/top\n",
            "Will write to : /content/drive/MyDrive/Rat_AI_Analysis/Coding/quadrants\n",
            "Skipping 01.mp4, quadrants already exist\n",
            "Skipping 02.mp4, quadrants already exist\n",
            "Skipping 03.mp4, quadrants already exist\n",
            "Skipping 04.mp4, quadrants already exist\n",
            "Skipping 05.mp4, quadrants already exist\n",
            "Skipping 08.mp4, quadrants already exist\n",
            "Skipping 10.mp4, quadrants already exist\n",
            "Skipping 07.mp4, quadrants already exist\n",
            "Processing 09.mp4 (600 frames)…\n"
          ]
        },
        {
          "output_type": "stream",
          "name": "stderr",
          "text": [
            "09: 100%|██████████| 600/600 [00:35<00:00, 16.74it/s]\n"
          ]
        },
        {
          "output_type": "stream",
          "name": "stdout",
          "text": [
            "Done in 35.9s — outputs in /content/drive/MyDrive/Rat_AI_Analysis/Coding/quadrants/09\n",
            "\n",
            "Processing 06.mp4 (600 frames)…\n"
          ]
        },
        {
          "output_type": "stream",
          "name": "stderr",
          "text": [
            "06: 100%|██████████| 600/600 [01:22<00:00,  7.31it/s]\n"
          ]
        },
        {
          "output_type": "stream",
          "name": "stdout",
          "text": [
            "Done in 82.1s — outputs in /content/drive/MyDrive/Rat_AI_Analysis/Coding/quadrants/06\n",
            "\n",
            "Processing 11.mp4 (600 frames)…\n"
          ]
        },
        {
          "output_type": "stream",
          "name": "stderr",
          "text": [
            "11: 100%|██████████| 600/600 [00:40<00:00, 14.71it/s]\n"
          ]
        },
        {
          "output_type": "stream",
          "name": "stdout",
          "text": [
            "Done in 40.8s — outputs in /content/drive/MyDrive/Rat_AI_Analysis/Coding/quadrants/11\n",
            "\n",
            "Processing 12.mp4 (607 frames)…\n"
          ]
        },
        {
          "output_type": "stream",
          "name": "stderr",
          "text": [
            "12: 100%|██████████| 607/607 [00:44<00:00, 13.68it/s]\n"
          ]
        },
        {
          "output_type": "stream",
          "name": "stdout",
          "text": [
            "Done in 44.4s — outputs in /content/drive/MyDrive/Rat_AI_Analysis/Coding/quadrants/12\n",
            "\n",
            "Processing 13.mp4 (600 frames)…\n"
          ]
        },
        {
          "output_type": "stream",
          "name": "stderr",
          "text": [
            "13: 100%|██████████| 600/600 [00:33<00:00, 18.16it/s]\n"
          ]
        },
        {
          "output_type": "stream",
          "name": "stdout",
          "text": [
            "Done in 33.1s — outputs in /content/drive/MyDrive/Rat_AI_Analysis/Coding/quadrants/13\n",
            "\n",
            "Processing 14.mp4 (600 frames)…\n"
          ]
        },
        {
          "output_type": "stream",
          "name": "stderr",
          "text": [
            "14: 100%|██████████| 600/600 [00:36<00:00, 16.49it/s]\n"
          ]
        },
        {
          "output_type": "stream",
          "name": "stdout",
          "text": [
            "Done in 36.4s — outputs in /content/drive/MyDrive/Rat_AI_Analysis/Coding/quadrants/14\n",
            "\n",
            "Processing 16.mp4 (368 frames)…\n"
          ]
        },
        {
          "output_type": "stream",
          "name": "stderr",
          "text": [
            "16: 100%|██████████| 368/368 [00:21<00:00, 17.17it/s]\n"
          ]
        },
        {
          "output_type": "stream",
          "name": "stdout",
          "text": [
            "Done in 21.4s — outputs in /content/drive/MyDrive/Rat_AI_Analysis/Coding/quadrants/16\n",
            "\n",
            "Processing 15.mp4 (600 frames)…\n"
          ]
        },
        {
          "output_type": "stream",
          "name": "stderr",
          "text": [
            "15: 100%|██████████| 600/600 [00:36<00:00, 16.24it/s]\n"
          ]
        },
        {
          "output_type": "stream",
          "name": "stdout",
          "text": [
            "Done in 37.0s — outputs in /content/drive/MyDrive/Rat_AI_Analysis/Coding/quadrants/15\n",
            "\n",
            "Processing 17.mp4 (600 frames)…\n"
          ]
        },
        {
          "output_type": "stream",
          "name": "stderr",
          "text": [
            "17: 100%|██████████| 600/600 [00:32<00:00, 18.70it/s]\n"
          ]
        },
        {
          "output_type": "stream",
          "name": "stdout",
          "text": [
            "Done in 32.1s — outputs in /content/drive/MyDrive/Rat_AI_Analysis/Coding/quadrants/17\n",
            "\n",
            "Processing 18.mp4 (515 frames)…\n"
          ]
        },
        {
          "output_type": "stream",
          "name": "stderr",
          "text": [
            "18: 100%|██████████| 515/515 [00:28<00:00, 18.00it/s]\n"
          ]
        },
        {
          "output_type": "stream",
          "name": "stdout",
          "text": [
            "Done in 28.6s — outputs in /content/drive/MyDrive/Rat_AI_Analysis/Coding/quadrants/18\n",
            "\n",
            "Processing 19.mp4 (600 frames)…\n"
          ]
        },
        {
          "output_type": "stream",
          "name": "stderr",
          "text": [
            "19: 100%|██████████| 600/600 [00:37<00:00, 15.98it/s]\n"
          ]
        },
        {
          "output_type": "stream",
          "name": "stdout",
          "text": [
            "Done in 37.6s — outputs in /content/drive/MyDrive/Rat_AI_Analysis/Coding/quadrants/19\n",
            "\n",
            "Processing 20.mp4 (600 frames)…\n"
          ]
        },
        {
          "output_type": "stream",
          "name": "stderr",
          "text": [
            "20: 100%|██████████| 600/600 [00:36<00:00, 16.44it/s]\n"
          ]
        },
        {
          "output_type": "stream",
          "name": "stdout",
          "text": [
            "Done in 36.5s — outputs in /content/drive/MyDrive/Rat_AI_Analysis/Coding/quadrants/20\n",
            "\n",
            "Processing 21.mp4 (600 frames)…\n"
          ]
        },
        {
          "output_type": "stream",
          "name": "stderr",
          "text": [
            "21: 100%|██████████| 600/600 [00:35<00:00, 16.81it/s]\n"
          ]
        },
        {
          "output_type": "stream",
          "name": "stdout",
          "text": [
            "Done in 35.7s — outputs in /content/drive/MyDrive/Rat_AI_Analysis/Coding/quadrants/21\n",
            "\n",
            "Processing 22.mp4 (600 frames)…\n"
          ]
        },
        {
          "output_type": "stream",
          "name": "stderr",
          "text": [
            "22: 100%|██████████| 600/600 [00:32<00:00, 18.44it/s]\n"
          ]
        },
        {
          "output_type": "stream",
          "name": "stdout",
          "text": [
            "Done in 32.6s — outputs in /content/drive/MyDrive/Rat_AI_Analysis/Coding/quadrants/22\n",
            "\n",
            "Processing 23.mp4 (600 frames)…\n"
          ]
        },
        {
          "output_type": "stream",
          "name": "stderr",
          "text": [
            "23: 100%|██████████| 600/600 [00:40<00:00, 14.80it/s]\n"
          ]
        },
        {
          "output_type": "stream",
          "name": "stdout",
          "text": [
            "Done in 40.6s — outputs in /content/drive/MyDrive/Rat_AI_Analysis/Coding/quadrants/23\n",
            "\n",
            "Processing 24.mp4 (600 frames)…\n"
          ]
        },
        {
          "output_type": "stream",
          "name": "stderr",
          "text": [
            "24: 100%|██████████| 600/600 [00:37<00:00, 16.08it/s]\n"
          ]
        },
        {
          "output_type": "stream",
          "name": "stdout",
          "text": [
            "Done in 37.3s — outputs in /content/drive/MyDrive/Rat_AI_Analysis/Coding/quadrants/24\n",
            "\n",
            "Processing 25.mp4 (444 frames)…\n"
          ]
        },
        {
          "output_type": "stream",
          "name": "stderr",
          "text": [
            "25: 100%|██████████| 444/444 [00:31<00:00, 13.99it/s]\n"
          ]
        },
        {
          "output_type": "stream",
          "name": "stdout",
          "text": [
            "Done in 31.8s — outputs in /content/drive/MyDrive/Rat_AI_Analysis/Coding/quadrants/25\n",
            "\n",
            "Processing 26.mp4 (600 frames)…\n"
          ]
        },
        {
          "output_type": "stream",
          "name": "stderr",
          "text": [
            "26: 100%|██████████| 600/600 [00:35<00:00, 17.02it/s]\n"
          ]
        },
        {
          "output_type": "stream",
          "name": "stdout",
          "text": [
            "Done in 35.3s — outputs in /content/drive/MyDrive/Rat_AI_Analysis/Coding/quadrants/26\n",
            "\n",
            "Processing 27.mp4 (600 frames)…\n"
          ]
        },
        {
          "output_type": "stream",
          "name": "stderr",
          "text": [
            "27: 100%|██████████| 600/600 [00:36<00:00, 16.33it/s]\n"
          ]
        },
        {
          "output_type": "stream",
          "name": "stdout",
          "text": [
            "Done in 36.8s — outputs in /content/drive/MyDrive/Rat_AI_Analysis/Coding/quadrants/27\n",
            "\n",
            "Processing 28.mp4 (638 frames)…\n"
          ]
        },
        {
          "output_type": "stream",
          "name": "stderr",
          "text": [
            "28: 100%|██████████| 638/638 [00:35<00:00, 17.86it/s]\n"
          ]
        },
        {
          "output_type": "stream",
          "name": "stdout",
          "text": [
            "Done in 35.8s — outputs in /content/drive/MyDrive/Rat_AI_Analysis/Coding/quadrants/28\n",
            "\n",
            "Processing 29.mp4 (600 frames)…\n"
          ]
        },
        {
          "output_type": "stream",
          "name": "stderr",
          "text": [
            "29: 100%|██████████| 600/600 [00:34<00:00, 17.38it/s]\n"
          ]
        },
        {
          "output_type": "stream",
          "name": "stdout",
          "text": [
            "Done in 34.5s — outputs in /content/drive/MyDrive/Rat_AI_Analysis/Coding/quadrants/29\n",
            "\n",
            "Processing 30.mp4 (600 frames)…\n"
          ]
        },
        {
          "output_type": "stream",
          "name": "stderr",
          "text": [
            "30: 100%|██████████| 600/600 [00:31<00:00, 19.15it/s]\n"
          ]
        },
        {
          "output_type": "stream",
          "name": "stdout",
          "text": [
            "Done in 31.4s — outputs in /content/drive/MyDrive/Rat_AI_Analysis/Coding/quadrants/30\n",
            "\n",
            "Processing 31.mp4 (600 frames)…\n"
          ]
        },
        {
          "output_type": "stream",
          "name": "stderr",
          "text": [
            "31: 100%|██████████| 600/600 [00:35<00:00, 16.70it/s]\n"
          ]
        },
        {
          "output_type": "stream",
          "name": "stdout",
          "text": [
            "Done in 35.9s — outputs in /content/drive/MyDrive/Rat_AI_Analysis/Coding/quadrants/31\n",
            "\n",
            "Processing 32.mp4 (600 frames)…\n"
          ]
        },
        {
          "output_type": "stream",
          "name": "stderr",
          "text": [
            "32: 100%|██████████| 600/600 [00:34<00:00, 17.58it/s]\n"
          ]
        },
        {
          "output_type": "stream",
          "name": "stdout",
          "text": [
            "Done in 34.2s — outputs in /content/drive/MyDrive/Rat_AI_Analysis/Coding/quadrants/32\n",
            "\n",
            "Processing 33.mp4 (759 frames)…\n"
          ]
        },
        {
          "output_type": "stream",
          "name": "stderr",
          "text": [
            "33: 100%|██████████| 759/759 [00:43<00:00, 17.40it/s]"
          ]
        },
        {
          "output_type": "stream",
          "name": "stdout",
          "text": [
            "Done in 43.6s — outputs in /content/drive/MyDrive/Rat_AI_Analysis/Coding/quadrants/33\n",
            "\n"
          ]
        },
        {
          "output_type": "stream",
          "name": "stderr",
          "text": [
            "\n"
          ]
        }
      ],
      "source": [
        "import cv2, os, time\n",
        "from tqdm import tqdm\n",
        "from pathlib import Path\n",
        "\n",
        "drive_root = Path('/content/drive')\n",
        "top_dirs = list(drive_root.rglob('top'))\n",
        "if not top_dirs:\n",
        "    raise FileNotFoundError(\"Couldn't find any folder named 'top' under /content/drive\")\n",
        "# pick the first match : in another world you'd have another check that guarantees the pick\n",
        "src_folder = top_dirs[0]\n",
        "\n",
        "base_dir    = src_folder.parent\n",
        "\n",
        "out_root    = base_dir / 'quadrants'\n",
        "out_root.mkdir(exist_ok=True)\n",
        "\n",
        "print(\"Project root auto-detected as:\", base_dir)\n",
        "print(\"Will read from:\", src_folder)\n",
        "print(\"Will write to :\", out_root)\n",
        "\n",
        "videos = [f for f in os.listdir(src_folder) if f.lower().endswith('.mp4')]\n",
        "for vid in videos:\n",
        "    src_path  = os.path.join(src_folder, vid)\n",
        "    name, _   = os.path.splitext(vid)\n",
        "    dst_dir   = os.path.join(out_root, name)\n",
        "    os.makedirs(dst_dir, exist_ok=True)\n",
        "\n",
        "    quadrants = ['top_left.mp4','top_right.mp4','bottom_left.mp4','bottom_right.mp4']\n",
        "    already = all(os.path.isfile(os.path.join(dst_dir, q)) for q in quadrants)\n",
        "    if already:\n",
        "        print(f\"Skipping {vid}, quadrants already exist\")\n",
        "        continue\n",
        "\n",
        "    cap      = cv2.VideoCapture(src_path)\n",
        "    fps      = cap.get(cv2.CAP_PROP_FPS)\n",
        "    w        = int(cap.get(cv2.CAP_PROP_FRAME_WIDTH))\n",
        "    h        = int(cap.get(cv2.CAP_PROP_FRAME_HEIGHT))\n",
        "    total    = int(cap.get(cv2.CAP_PROP_FRAME_COUNT))\n",
        "    w2, h2   = w//2, h//2\n",
        "    fourcc   = cv2.VideoWriter_fourcc(*'mp4v')\n",
        "\n",
        "    writers = {\n",
        "      'tl': cv2.VideoWriter(os.path.join(dst_dir, 'top_left.mp4'), fourcc, fps, (w2, h2)),\n",
        "      'tr': cv2.VideoWriter(os.path.join(dst_dir, 'top_right.mp4'), fourcc, fps, (w2, h2)),\n",
        "      'bl': cv2.VideoWriter(os.path.join(dst_dir, 'bottom_left.mp4'), fourcc, fps, (w2, h2)),\n",
        "      'br': cv2.VideoWriter(os.path.join(dst_dir, 'bottom_right.mp4'), fourcc, fps, (w2, h2)),\n",
        "    }\n",
        "\n",
        "    print(f'Processing {vid} ({total} frames)…')\n",
        "    start = time.time()\n",
        "    for _ in tqdm(range(total), desc=name):\n",
        "        ret, frame = cap.read()\n",
        "        if not ret:\n",
        "            break\n",
        "        writers['tl'].write(frame[0:h2, 0:w2])\n",
        "        writers['tr'].write(frame[0:h2, w2:w])\n",
        "        writers['bl'].write(frame[h2:h, 0:w2])\n",
        "        writers['br'].write(frame[h2:h, w2:w])\n",
        "\n",
        "    cap.release()\n",
        "    for wri in writers.values():\n",
        "        wri.release()\n",
        "    print(f'Done in {time.time()-start:.1f}s — outputs in {dst_dir}\\n')\n"
      ]
    },
    {
      "cell_type": "code",
      "source": [
        "import os\n",
        "import shutil\n",
        "from pathlib import Path\n",
        "\n",
        "# Configuration: adjust these paths as needed\n",
        "# input_root: directory containing subdirectories '1', '2', ..., '33'\n",
        "# output_dir: directory where renamed top_left videos will be collected\n",
        "input_root = Path(\"/content/drive/MyDrive/Rat_AI_Analysis/Coding/quadrants\")\n",
        "output_dir = input_root.parent / \"all_top_left_videos\"\n",
        "\n",
        "# Create the output directory if it doesn't exist\n",
        "output_dir.mkdir(parents=True, exist_ok=True)\n",
        "\n",
        "# Iterate over each numbered subdirectory\n",
        "for subdir in sorted(input_root.iterdir(), key=lambda x: int(x.name) if x.name.isdigit() else x.name):\n",
        "    if subdir.is_dir():\n",
        "        top_left_file = subdir / \"top_left.mp4\"\n",
        "        if top_left_file.exists():\n",
        "            # Determine new filename, e.g. top_left_1.mp4 (assuming subdir name is '1')\n",
        "            new_filename = f\"top_left_{subdir.name}.mp4\"\n",
        "            dest_path = output_dir / new_filename\n",
        "\n",
        "            # Copy and rename the file into the output directory\n",
        "            shutil.copy2(top_left_file, dest_path)\n",
        "            print(f\"Copied {top_left_file} to {dest_path}\")\n",
        "        else:\n",
        "            print(f\"No top_left.mp4 found in {subdir}, skipping.\")\n",
        "\n",
        "print(f\"All available top_left videos have been copied to {output_dir}\")\n",
        "\n"
      ],
      "metadata": {
        "colab": {
          "base_uri": "https://localhost:8080/"
        },
        "id": "mTaKI-QAQUAR",
        "outputId": "d47c2782-e088-4204-c82c-e5e037a1397c"
      },
      "execution_count": 2,
      "outputs": [
        {
          "output_type": "stream",
          "name": "stdout",
          "text": [
            "Copied /content/drive/MyDrive/Rat_AI_Analysis/Coding/quadrants/01/top_left.mp4 to /content/drive/MyDrive/Rat_AI_Analysis/Coding/all_top_left_videos/top_left_01.mp4\n",
            "Copied /content/drive/MyDrive/Rat_AI_Analysis/Coding/quadrants/02/top_left.mp4 to /content/drive/MyDrive/Rat_AI_Analysis/Coding/all_top_left_videos/top_left_02.mp4\n",
            "Copied /content/drive/MyDrive/Rat_AI_Analysis/Coding/quadrants/03/top_left.mp4 to /content/drive/MyDrive/Rat_AI_Analysis/Coding/all_top_left_videos/top_left_03.mp4\n",
            "Copied /content/drive/MyDrive/Rat_AI_Analysis/Coding/quadrants/04/top_left.mp4 to /content/drive/MyDrive/Rat_AI_Analysis/Coding/all_top_left_videos/top_left_04.mp4\n",
            "Copied /content/drive/MyDrive/Rat_AI_Analysis/Coding/quadrants/05/top_left.mp4 to /content/drive/MyDrive/Rat_AI_Analysis/Coding/all_top_left_videos/top_left_05.mp4\n",
            "Copied /content/drive/MyDrive/Rat_AI_Analysis/Coding/quadrants/06/top_left.mp4 to /content/drive/MyDrive/Rat_AI_Analysis/Coding/all_top_left_videos/top_left_06.mp4\n",
            "Copied /content/drive/MyDrive/Rat_AI_Analysis/Coding/quadrants/07/top_left.mp4 to /content/drive/MyDrive/Rat_AI_Analysis/Coding/all_top_left_videos/top_left_07.mp4\n",
            "Copied /content/drive/MyDrive/Rat_AI_Analysis/Coding/quadrants/08/top_left.mp4 to /content/drive/MyDrive/Rat_AI_Analysis/Coding/all_top_left_videos/top_left_08.mp4\n",
            "Copied /content/drive/MyDrive/Rat_AI_Analysis/Coding/quadrants/09/top_left.mp4 to /content/drive/MyDrive/Rat_AI_Analysis/Coding/all_top_left_videos/top_left_09.mp4\n",
            "Copied /content/drive/MyDrive/Rat_AI_Analysis/Coding/quadrants/10/top_left.mp4 to /content/drive/MyDrive/Rat_AI_Analysis/Coding/all_top_left_videos/top_left_10.mp4\n",
            "Copied /content/drive/MyDrive/Rat_AI_Analysis/Coding/quadrants/11/top_left.mp4 to /content/drive/MyDrive/Rat_AI_Analysis/Coding/all_top_left_videos/top_left_11.mp4\n",
            "Copied /content/drive/MyDrive/Rat_AI_Analysis/Coding/quadrants/12/top_left.mp4 to /content/drive/MyDrive/Rat_AI_Analysis/Coding/all_top_left_videos/top_left_12.mp4\n",
            "Copied /content/drive/MyDrive/Rat_AI_Analysis/Coding/quadrants/13/top_left.mp4 to /content/drive/MyDrive/Rat_AI_Analysis/Coding/all_top_left_videos/top_left_13.mp4\n",
            "Copied /content/drive/MyDrive/Rat_AI_Analysis/Coding/quadrants/14/top_left.mp4 to /content/drive/MyDrive/Rat_AI_Analysis/Coding/all_top_left_videos/top_left_14.mp4\n",
            "Copied /content/drive/MyDrive/Rat_AI_Analysis/Coding/quadrants/15/top_left.mp4 to /content/drive/MyDrive/Rat_AI_Analysis/Coding/all_top_left_videos/top_left_15.mp4\n",
            "Copied /content/drive/MyDrive/Rat_AI_Analysis/Coding/quadrants/16/top_left.mp4 to /content/drive/MyDrive/Rat_AI_Analysis/Coding/all_top_left_videos/top_left_16.mp4\n",
            "Copied /content/drive/MyDrive/Rat_AI_Analysis/Coding/quadrants/17/top_left.mp4 to /content/drive/MyDrive/Rat_AI_Analysis/Coding/all_top_left_videos/top_left_17.mp4\n",
            "Copied /content/drive/MyDrive/Rat_AI_Analysis/Coding/quadrants/18/top_left.mp4 to /content/drive/MyDrive/Rat_AI_Analysis/Coding/all_top_left_videos/top_left_18.mp4\n",
            "Copied /content/drive/MyDrive/Rat_AI_Analysis/Coding/quadrants/19/top_left.mp4 to /content/drive/MyDrive/Rat_AI_Analysis/Coding/all_top_left_videos/top_left_19.mp4\n",
            "Copied /content/drive/MyDrive/Rat_AI_Analysis/Coding/quadrants/20/top_left.mp4 to /content/drive/MyDrive/Rat_AI_Analysis/Coding/all_top_left_videos/top_left_20.mp4\n",
            "Copied /content/drive/MyDrive/Rat_AI_Analysis/Coding/quadrants/21/top_left.mp4 to /content/drive/MyDrive/Rat_AI_Analysis/Coding/all_top_left_videos/top_left_21.mp4\n",
            "Copied /content/drive/MyDrive/Rat_AI_Analysis/Coding/quadrants/22/top_left.mp4 to /content/drive/MyDrive/Rat_AI_Analysis/Coding/all_top_left_videos/top_left_22.mp4\n",
            "Copied /content/drive/MyDrive/Rat_AI_Analysis/Coding/quadrants/23/top_left.mp4 to /content/drive/MyDrive/Rat_AI_Analysis/Coding/all_top_left_videos/top_left_23.mp4\n",
            "Copied /content/drive/MyDrive/Rat_AI_Analysis/Coding/quadrants/24/top_left.mp4 to /content/drive/MyDrive/Rat_AI_Analysis/Coding/all_top_left_videos/top_left_24.mp4\n",
            "Copied /content/drive/MyDrive/Rat_AI_Analysis/Coding/quadrants/25/top_left.mp4 to /content/drive/MyDrive/Rat_AI_Analysis/Coding/all_top_left_videos/top_left_25.mp4\n",
            "Copied /content/drive/MyDrive/Rat_AI_Analysis/Coding/quadrants/26/top_left.mp4 to /content/drive/MyDrive/Rat_AI_Analysis/Coding/all_top_left_videos/top_left_26.mp4\n",
            "Copied /content/drive/MyDrive/Rat_AI_Analysis/Coding/quadrants/27/top_left.mp4 to /content/drive/MyDrive/Rat_AI_Analysis/Coding/all_top_left_videos/top_left_27.mp4\n",
            "Copied /content/drive/MyDrive/Rat_AI_Analysis/Coding/quadrants/28/top_left.mp4 to /content/drive/MyDrive/Rat_AI_Analysis/Coding/all_top_left_videos/top_left_28.mp4\n",
            "Copied /content/drive/MyDrive/Rat_AI_Analysis/Coding/quadrants/29/top_left.mp4 to /content/drive/MyDrive/Rat_AI_Analysis/Coding/all_top_left_videos/top_left_29.mp4\n",
            "Copied /content/drive/MyDrive/Rat_AI_Analysis/Coding/quadrants/30/top_left.mp4 to /content/drive/MyDrive/Rat_AI_Analysis/Coding/all_top_left_videos/top_left_30.mp4\n",
            "Copied /content/drive/MyDrive/Rat_AI_Analysis/Coding/quadrants/31/top_left.mp4 to /content/drive/MyDrive/Rat_AI_Analysis/Coding/all_top_left_videos/top_left_31.mp4\n",
            "Copied /content/drive/MyDrive/Rat_AI_Analysis/Coding/quadrants/32/top_left.mp4 to /content/drive/MyDrive/Rat_AI_Analysis/Coding/all_top_left_videos/top_left_32.mp4\n",
            "Copied /content/drive/MyDrive/Rat_AI_Analysis/Coding/quadrants/33/top_left.mp4 to /content/drive/MyDrive/Rat_AI_Analysis/Coding/all_top_left_videos/top_left_33.mp4\n",
            "All available top_left videos have been copied to /content/drive/MyDrive/Rat_AI_Analysis/Coding/all_top_left_videos\n"
          ]
        }
      ]
    }
  ],
  "metadata": {
    "colab": {
      "provenance": [],
      "mount_file_id": "1w4t4D4z4ByjRKpKyy9KDaGAFetUwv1cP",
      "authorship_tag": "ABX9TyMsg+vShUTAUjklvSZuqsXK",
      "include_colab_link": true
    },
    "kernelspec": {
      "display_name": "Python 3",
      "name": "python3"
    },
    "language_info": {
      "name": "python"
    }
  },
  "nbformat": 4,
  "nbformat_minor": 0
}